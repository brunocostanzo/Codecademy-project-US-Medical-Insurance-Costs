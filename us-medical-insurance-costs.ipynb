{
 "cells": [
  {
   "cell_type": "markdown",
   "metadata": {},
   "source": [
    "# U.S. Medical Insurance Costs"
   ]
  },
  {
   "cell_type": "code",
   "execution_count": 76,
   "metadata": {},
   "outputs": [],
   "source": [
    "import pandas as pd\n",
    "df = pd.read_csv('insurance.csv')"
   ]
  },
  {
   "cell_type": "markdown",
   "metadata": {},
   "source": [
    "# Hypothesis:\n",
    "\n",
    "1. Smokers, being more sedentary, have more BMI than non-smokers\n",
    "2. The obese pay more for their health care than the non-obese.\n",
    "3. The 100 highest paying people are obese, smokers, or both. The 100 who pay the least do not smoke or are obese.\n",
    "4. Women are more prone to obesity than men.\n",
    "5. In adulthood, you begin to lose muscle and increase body mass, thus increasing obesity.\n"
   ]
  },
  {
   "cell_type": "markdown",
   "metadata": {},
   "source": [
    "# Are there differences in the BMI of smokers and non-smokers?"
   ]
  },
  {
   "cell_type": "code",
   "execution_count": 77,
   "metadata": {},
   "outputs": [
    {
     "name": "stdout",
     "output_type": "stream",
     "text": [
      "Smokers BMI promedy: 30.70844890510949\n",
      "Non smokers BMI promedy: 30.651795112781954\n",
      "As we can see, there is no a big diference in BMI between smokers and non-smokers\n"
     ]
    }
   ],
   "source": [
    "smokers = df[df.smoker == 'yes']\n",
    "non_smokers = df[df.smoker == 'no']\n",
    "total_n = df.smoker.count()\n",
    "bmi_of_smokers = smokers.bmi.sum() / smokers.bmi.count()\n",
    "bmi_of_non_smokers = non_smokers.bmi.sum() / non_smokers.bmi.count()\n",
    "print(\"Smokers BMI promedy: \" + str(bmi_of_smokers))\n",
    "print(\"Non smokers BMI promedy: \" + str(bmi_of_non_smokers))\n",
    "print(\"As we can see, there is no a big diference in BMI between smokers and non-smokers\")"
   ]
  },
  {
   "cell_type": "markdown",
   "metadata": {},
   "source": [
    "# How much more do the obese pay on average compared to the non-obese?\n"
   ]
  },
  {
   "cell_type": "code",
   "execution_count": 78,
   "metadata": {},
   "outputs": [
    {
     "name": "stdout",
     "output_type": "stream",
     "text": [
      "Obeses promedy charges: 15552.335468868458\n",
      "Non-Obeses promedy charges: 10713.666900584787\n",
      "As we can see, obeses pay in promedy 45.163515098827276 percent more\n"
     ]
    }
   ],
   "source": [
    "#A 30 o higher level of BMI reflects obesity.\n",
    "obese_people = df[df.bmi >= 30]\n",
    "non_obese_people = df[df.bmi < 30]\n",
    "charges_promedy_obeses = obese_people.charges.sum() / obese_people.bmi.count()\n",
    "charges_promedy_non_obeses = non_obese_people.charges.sum() / non_obese_people.bmi.count()\n",
    "difference_between_obeses_and_non_obeses_charges = charges_promedy_obeses/charges_promedy_non_obeses * 100 - 100\n",
    "print(\"Obeses promedy charges: \" + str(charges_promedy_obeses))\n",
    "print(\"Non-Obeses promedy charges: \" + str(charges_promedy_non_obeses))\n",
    "print(\"As we can see, obeses pay in promedy \" + str(difference_between_obeses_and_non_obeses_charges) + \" percent more\")"
   ]
  },
  {
   "cell_type": "markdown",
   "metadata": {},
   "source": [
    "# Are the 100 highest paying people obese, smokers, or both?"
   ]
  },
  {
   "cell_type": "code",
   "execution_count": 79,
   "metadata": {},
   "outputs": [
    {
     "name": "stdout",
     "output_type": "stream",
     "text": [
      "The 100.0% of top hundred charges are smokers\n",
      "The 100.0% of top hundred charges are obese\n",
      "The 0.0% of low hundred charges are smokers\n",
      "The 51.0% of low hundred charges are obese\n"
     ]
    }
   ],
   "source": [
    "df_sort_by_charges = df.sort_values(by=['charges'], ascending=False)\n",
    "top_hundred_charges = df_sort_by_charges[0:100]\n",
    "num_of_smokers = top_hundred_charges[top_hundred_charges.smoker == 'yes'].count()\n",
    "num_of_obese = top_hundred_charges[top_hundred_charges.bmi >= 30].count()\n",
    "print(\"The \" + str((num_of_smokers.smoker/100) * 100) + \"% of top hundred charges are smokers\")\n",
    "print(\"The \" + str((num_of_obese.bmi/100) * 100) + \"% of top hundred charges are obese\")\n",
    "\n",
    "df_sort_by_charges_asc = df.sort_values(by=['charges'])\n",
    "low_hundred_charges = df_sort_by_charges[-101:-1]\n",
    "num_of_smokers2 = low_hundred_charges[low_hundred_charges.smoker == 'yes'].count()\n",
    "num_of_obese2 = low_hundred_charges[low_hundred_charges.bmi >= 30].count()\n",
    "print(\"The \" + str((num_of_smokers2.smoker/100) * 100) + \"% of low hundred charges are smokers\")\n",
    "print(\"The \" + str((num_of_obese2.bmi/100) * 100) + \"% of low hundred charges are obese\")"
   ]
  },
  {
   "cell_type": "markdown",
   "metadata": {},
   "source": [
    "# Is there a greater tendency to obesity among women or among men?\n"
   ]
  },
  {
   "cell_type": "code",
   "execution_count": 80,
   "metadata": {
    "scrolled": true
   },
   "outputs": [
    {
     "name": "stdout",
     "output_type": "stream",
     "text": [
      "% of female obese: 50.453172205438065\n",
      "% of male obese: 55.17751479289941\n",
      "There are more obeses between men than woman\n"
     ]
    }
   ],
   "source": [
    "total_female = df[df.sex == 'female']\n",
    "total_male = df[df.sex == 'male']\n",
    "female_obese = df[(df.bmi >= 30) & (df.sex == 'female')]\n",
    "male_obese = df[(df.bmi >= 30) & (df.sex == 'male')]\n",
    "female_obese_percent = (female_obese.age.count() / total_female.age.count()) * 100\n",
    "male_obese_percent = (male_obese.age.count() / total_male.age.count()) * 100\n",
    "print(\"% of female obese: \" + str(female_obese_percent))\n",
    "print(\"% of male obese: \" + str(male_obese_percent))\n",
    "print(\"There are more obeses between men than woman\")"
   ]
  },
  {
   "cell_type": "markdown",
   "metadata": {},
   "source": [
    "# Between what ages does the most BMI accumulate?"
   ]
  },
  {
   "cell_type": "code",
   "execution_count": 75,
   "metadata": {},
   "outputs": [
    {
     "name": "stdout",
     "output_type": "stream",
     "text": [
      "[0.0793982108972564, 0.2736147015848083, 0.3220785907859067, 0.7972388134741095, 0.42345698598388637]\n",
      "Between the 18 to 25 age group and the 26 to 33 age group there is a percentage increase in BMI of 0.2645958510665737\n",
      "Between the 26 to 33 age group and the 34 to 41 age group there is a percentage increase in BMI of 0.9094192330764479\n",
      "Between the 34 to 41 age group and the 42 to 49 age group there is a percentage increase in BMI of 1.0608521397218111\n",
      "Between the 42 to 49 age group and the 50 to 57 age group there is a percentage increase in BMI of 2.59835494827552\n",
      "Between the 50 to 57 age group and the 58 to 65 age group there is a percentage increase in BMI of 1.3451754978423043\n",
      "As we can see, when adults go from the age group 42 to 49 to the age group 50 to 47, they experience the greatest growth in body mass.\n"
     ]
    }
   ],
   "source": [
    "bmi_promedy_18_to_25 = (df[(df.age >= 18) & (df.age <= 25)].bmi.sum()) / (df[(df.age >= 18) & (df.age <= 25)].bmi.count())\n",
    "bmi_promedy_26_to_33 = (df[(df.age >= 26) & (df.age <= 33)].bmi.sum()) / (df[(df.age >= 26) & (df.age <= 33)].bmi.count())\n",
    "bmi_promedy_34_to_41 = (df[(df.age >= 34) & (df.age <= 41)].bmi.sum()) / (df[(df.age >= 34) & (df.age <= 41)].bmi.count())\n",
    "bmi_promedy_42_to_49 = (df[(df.age >= 42) & (df.age <= 49)].bmi.sum()) / (df[(df.age >= 42) & (df.age <= 49)].bmi.count())\n",
    "bmi_promedy_50_to_57 = (df[(df.age >= 50) & (df.age <= 57)].bmi.sum()) / (df[(df.age >= 50) & (df.age <= 57)].bmi.count())\n",
    "bmi_promedy_58_to_65 = (df[(df.age >= 58) & (df.age <= 65)].bmi.sum()) / (df[(df.age >= 58) & (df.age <= 65)].bmi.count())\n",
    "\n",
    "bmi_promedies = [bmi_promedy_18_to_25, \n",
    "                 bmi_promedy_26_to_33, \n",
    "                 bmi_promedy_34_to_41, \n",
    "                 bmi_promedy_42_to_49, \n",
    "                 bmi_promedy_50_to_57, \n",
    "                 bmi_promedy_58_to_65]\n",
    "\n",
    "differences_in_promedies = []\n",
    "i = 1\n",
    "for promedies in bmi_promedies:\n",
    "    if promedies == bmi_promedy_58_to_65:\n",
    "        break\n",
    "    differences_in_promedies.append(bmi_promedies[i] - promedies)\n",
    "    i+=1\n",
    "\n",
    "print(differences_in_promedies)\n",
    "\n",
    "for t in range(5):\n",
    "    if t == 0:\n",
    "        print(\"Between the 18 to 25 age group and the 26 to 33 age group there is a percentage increase in BMI of \" +\n",
    "              str((differences_in_promedies[t] / bmi_promedies[t]) * 100))\n",
    "    if t == 1:\n",
    "        print(\"Between the 26 to 33 age group and the 34 to 41 age group there is a percentage increase in BMI of \" +\n",
    "              str((differences_in_promedies[t] / bmi_promedies[t]) * 100))\n",
    "    if t == 2:\n",
    "        print(\"Between the 34 to 41 age group and the 42 to 49 age group there is a percentage increase in BMI of \" +\n",
    "              str((differences_in_promedies[t] / bmi_promedies[t]) * 100))\n",
    "    if t == 3:\n",
    "        print(\"Between the 42 to 49 age group and the 50 to 57 age group there is a percentage increase in BMI of \" +\n",
    "              str((differences_in_promedies[t] / bmi_promedies[t]) * 100))\n",
    "    if t == 4:\n",
    "        print(\"Between the 50 to 57 age group and the 58 to 65 age group there is a percentage increase in BMI of \" +\n",
    "              str((differences_in_promedies[t] / bmi_promedies[t]) * 100))\n",
    "    \n",
    "print(\"As we can see, when adults go from the age group 42 to 49 to the age group 50 to 47, they experience the greatest growth in body mass.\")"
   ]
  },
  {
   "cell_type": "markdown",
   "metadata": {},
   "source": [
    "# Conclusion\n",
    "\n",
    "1. Smokers, being more sedentary, have more BMI than non-smokers. FALSE.\n",
    "2. The obese pay more for their health care than the non-obese. TRUE.\n",
    "3. The 100 highest paying people are obese, smokers, or both. The 100 who pay the least do not smoke or are obese. TRUE - FALSE.\n",
    "4. Women are more prone to obesity than men. FALSE.\n",
    "5. In adulthood, you begin to lose muscle and increase body mass, thus increasing obesity. TRUE but..."
   ]
  }
 ],
 "metadata": {
  "kernelspec": {
   "display_name": "Python 3",
   "language": "python",
   "name": "python3"
  },
  "language_info": {
   "codemirror_mode": {
    "name": "ipython",
    "version": 3
   },
   "file_extension": ".py",
   "mimetype": "text/x-python",
   "name": "python",
   "nbconvert_exporter": "python",
   "pygments_lexer": "ipython3",
   "version": "3.7.6"
  }
 },
 "nbformat": 4,
 "nbformat_minor": 4
}
